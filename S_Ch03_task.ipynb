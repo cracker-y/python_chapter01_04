{
  "cells": [
    {
      "cell_type": "markdown",
      "metadata": {
        "id": "s9_VcQXnLxPW"
      },
      "source": [
        "<span style=\"font-size:100%\">\n",
        "\n",
        "수업은 모두 열심히 들으셨나요?\n",
        "\n",
        "간혹 강의에서 언급되지 않은 내용이 문제로 나올 수 있습니다.<br>\n",
        "그럴땐 강의 내용 외 문제는 구글링을 통해 해결해주세요<br></span>\n",
        "<span style=\"font-size:80%\">\n",
        "(구글링 또한 개발자가 갖쳐야할 역량 중에 하나랍니다 😊)\n",
        "</span>\n",
        "\n",
        "---"
      ]
    },
    {
      "cell_type": "markdown",
      "metadata": {
        "id": "B_YChSfNLxPX"
      },
      "source": [
        "<span style=\"font-size:80%\">[문제1]<br><br></span>\n",
        "```주로 작성 중인 코드의 끝을 알리는 기호로 사용되며 파이썬에서 한 줄에 작성된 서로 다른 코드를 구분 지을 때 사용할 수 있는 기호를 골라주세요```\n",
        "\n",
        "1. ' , ' (쉼표)\n",
        "2. ' + ' (더하기 기호)\n",
        "3. ' ; ' (세미콜론)\n",
        "4. ' / ' (슬래시)"
      ]
    },
    {
      "cell_type": "markdown",
      "metadata": {
        "id": "aM0e1ZSMLxPX"
      },
      "source": [
        "<span style=\"color:red\">답변</span> :"
      ]
    },
    {
      "cell_type": "markdown",
      "metadata": {
        "id": "I-EmAqUULxPX"
      },
      "source": [
        "3 세미콜론"
      ]
    },
    {
      "cell_type": "markdown",
      "metadata": {
        "id": "p1zIQqgsLxPY"
      },
      "source": [
        "----"
      ]
    },
    {
      "cell_type": "markdown",
      "metadata": {
        "id": "c9D1y9tDLxPY"
      },
      "source": [
        "<span style=\"font-size:80%\">[문제2]<br><br></span>\n",
        "```Python의 PEP 8은 무엇인지 설명하고 PEP 8의 핵심적인 규칙을 1개 이상을 설명해주세요```"
      ]
    },
    {
      "cell_type": "markdown",
      "metadata": {
        "id": "x5V7jY9xLxPY"
      },
      "source": [
        "<span style=\"color:red\">답변</span>"
      ]
    },
    {
      "cell_type": "markdown",
      "metadata": {
        "id": "3dhXUmqiLxPY"
      },
      "source": [
        "- PEP 8 이란 Python 코드 스타일 가이드라인을 말합니다\n",
        "- 핵심적인 규칙은\n",
        " 1. 들여쓰기\n",
        " 1. 공백사용\n",
        " 1. 명명 규칙"
      ]
    },
    {
      "cell_type": "markdown",
      "metadata": {
        "id": "uQ61jIOuLxPY"
      },
      "source": [
        "----"
      ]
    },
    {
      "cell_type": "markdown",
      "metadata": {
        "id": "k_UnVGktLxPZ"
      },
      "source": [
        "<span style=\"font-size:80%\">[문제3]<br><br></span>\n",
        "```Python에서 \"#\"이 의마하는 것은 무엇인지 설명해주세요```"
      ]
    },
    {
      "cell_type": "markdown",
      "metadata": {
        "id": "Ztneu9eVLxPZ"
      },
      "source": [
        "<span style=\"color:red\">답변</span>"
      ]
    },
    {
      "cell_type": "markdown",
      "metadata": {
        "id": "1reV6cyFLxPZ"
      },
      "source": [
        "주석을 의미 합니다.\n",
        "주석은 코드상에 아무런 의미가 없는 것이지만 개발자에게 메시지, 기능 메모를 할수있는\n",
        "아주 좋은 코드입니다."
      ]
    },
    {
      "cell_type": "markdown",
      "metadata": {
        "id": "0kCR1FJwLxPZ"
      },
      "source": [
        "----"
      ]
    },
    {
      "cell_type": "markdown",
      "metadata": {
        "id": "xs_a1ai2LxPZ"
      },
      "source": [
        "<span style=\"font-size:80%\">[문제4]<br><br></span>\n",
        "```Python의 들여쓰기 장점과 기능에 대해 설명해주세요```"
      ]
    },
    {
      "cell_type": "markdown",
      "metadata": {
        "id": "6F0HKG2pLxPZ"
      },
      "source": [
        "<span style=\"color:red\">답변</span>"
      ]
    },
    {
      "cell_type": "markdown",
      "metadata": {
        "id": "xvFh1YTpLxPZ"
      },
      "source": [
        "- 파이썬의 들여쓰기는 코드와도 같아서 아주 중요합니다.\n",
        "- 가독성도 매우 좋아집니다."
      ]
    },
    {
      "cell_type": "markdown",
      "metadata": {
        "id": "KjOGuD1ZLxPZ"
      },
      "source": [
        "----"
      ]
    },
    {
      "cell_type": "markdown",
      "metadata": {
        "id": "eoZ9f1uYLxPa"
      },
      "source": [
        "<span style=\"font-size:80%\">[문제5]<br><br></span>\n",
        "```print( )문의 기능 및 특징에 대해 설명해주세요```"
      ]
    },
    {
      "cell_type": "markdown",
      "metadata": {
        "id": "THiaZwRGLxPa"
      },
      "source": [
        "<span style=\"color:red\">답변</span>"
      ]
    },
    {
      "cell_type": "code",
      "execution_count": 1,
      "metadata": {
        "vscode": {
          "languageId": "plaintext"
        },
        "colab": {
          "base_uri": "https://localhost:8080/"
        },
        "id": "mOjJagfFLxPa",
        "outputId": "88ced809-ade0-45e8-dd3d-56bae4ce1758"
      },
      "outputs": [
        {
          "output_type": "stream",
          "name": "stdout",
          "text": [
            "큰 따옴표 안에는 어떠한 것도 문자열로 출력하는 성질을 가지고있습니다.\n",
            "이렇게 문자열과 사칙연산의 결과를 같이 넣어 사용할수있습니다. 7\n"
          ]
        }
      ],
      "source": [
        "print(\"큰 따옴표 안에는 어떠한 것도 문자열로 출력하는 성질을 가지고있습니다.\");\n",
        "print(\"이렇게 문자열과 사칙연산의 결과를 같이 넣어 사용할수있습니다.\", 3 + 4);"
      ]
    },
    {
      "cell_type": "markdown",
      "metadata": {
        "id": "i75q6xN6LxPb"
      },
      "source": []
    }
  ],
  "metadata": {
    "language_info": {
      "name": "python"
    },
    "colab": {
      "provenance": []
    },
    "kernelspec": {
      "name": "python3",
      "display_name": "Python 3"
    }
  },
  "nbformat": 4,
  "nbformat_minor": 0
}